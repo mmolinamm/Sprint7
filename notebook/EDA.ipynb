import pandas as pd
import plotly.express as px

car_data = pd.read_csv('/home/manuel-molina/Desktop/vehicles_env') 
fig = px.histogram(car_data, x="odometer") # crear un histograma
fig.show() # crear gráfico de dispersión